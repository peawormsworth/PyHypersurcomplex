{
 "cells": [
  {
   "cell_type": "markdown",
   "metadata": {},
   "source": [
    "# Hypersurcomplex Idempotent\n",
    "An idempotent is a number who's square is itself. One is a simple idempotent. However, the Split-Quaternions contain an idempotent that is not one:\n",
    "\n",
    "  $$ 1/2+1/2j = (1/2+1/2j)^2 $$\n",
    "\n",
    "This notebook demonstrates analytic proof for the existence of an idempotent for split-quaternions with real number coefficients and compares the result of the same calculation using the splithypersurquaternion (split-quaternion with surreal number coefficients)"
   ]
  },
  {
   "cell_type": "markdown",
   "metadata": {},
   "source": [
    "### Verify Split-Quaternion Idempotent\n",
    "The split-quaternion idempotent is proven below."
   ]
  },
  {
   "cell_type": "code",
   "execution_count": 1,
   "metadata": {
    "collapsed": false
   },
   "outputs": [
    {
     "name": "stdout",
     "output_type": "stream",
     "text": [
      "Test Split-Quaternion idempotent - a number whose square is zero\n",
      "\n",
      "raw form:\n",
      "\n",
      "\n",
      "       q = 'SplitQuaternion'(['0.5,0.0,0.5,0.0'], dp='34', ii='-+')\n",
      "\n",
      "     q×q = 'SplitQuaternion'(['0.5,0.0,0.5,0.0'], dp='34', ii='-+')\n",
      "\n",
      "\n",
      "=== Real Quaternion Idempotent test\n",
      "\n",
      "Given the idempotent:\n",
      "\n",
      "          q = 0.5+0.5j\n",
      "\n",
      "...verify it squares to itself:\n",
      "\n",
      "        q×q = 0.5+0.5j\n",
      "     expect = 0.5+0.5j\n",
      "\n",
      "\n",
      "\n",
      "success: idemopotent found in split-quaternions\n",
      "done.\n"
     ]
    }
   ],
   "source": [
    "from involution.algebra import SplitQuaternion\n",
    "print(\"Test Split-Quaternion idempotent - a number whose square is zero\")\n",
    "\n",
    "q = SplitQuaternion([1/2,0,1/2,0])\n",
    "calc = q*q\n",
    "expect = q\n",
    "print('\\nraw form:\\n')\n",
    "print(\"\\n%8s = %r\" % ('q',q))\n",
    "print(\"\\n%8s = %r\" % ('q×q',calc))\n",
    "print(\"\"\"\n",
    "\n",
    "=== Real Quaternion Idempotent test\n",
    "\n",
    "Given the idempotent:\n",
    "\n",
    "          q = {0}\n",
    "\n",
    "...verify it squares to itself:\n",
    "\n",
    "        q×q = {1}\n",
    "     expect = {2}\n",
    "\n",
    "\"\"\".format(str(q),str(calc),str(expect)\n",
    "))\n",
    "assert calc == expect\n",
    "print('\\nsuccess: idemopotent found in split-quaternions\\ndone.')"
   ]
  },
  {
   "cell_type": "markdown",
   "metadata": {},
   "source": [
    "### Find Split-Surquaternion Idempotent\n",
    "The split-surquaternion idempotent is proven below."
   ]
  },
  {
   "cell_type": "code",
   "execution_count": 2,
   "metadata": {
    "collapsed": false
   },
   "outputs": [
    {
     "name": "stdout",
     "output_type": "stream",
     "text": [
      "\n",
      "Test Split-Surquaternion idempotent - a number whose square is zero\n",
      "\n",
      "raw form:\n",
      "\n",
      "\n",
      "       q = 'SplitQuaternion'(['[[|]|[[|]|]],[|],[[|]|[[|]|]],[|]'], dp='34', ii='-+')\n",
      "\n",
      "     q×q = 'SplitQuaternion'(['[[|]|[[|]|]],[|],[[|]|[[|]|]],[|]'], dp='34', ii='-+')\n",
      "\n",
      "\n",
      "=== Split-Surquaternion Idempotent test\n",
      "\n",
      "Given the idempotent:\n",
      "\n",
      "          q = (1/2,0,1/2,0)\n",
      "\n",
      "...verify it squares to itself:\n",
      "\n",
      "        q×q = (1/2,0,1/2,0)\n",
      "     expect = (1/2,0,1/2,0)\n",
      "\n",
      "\n",
      "\n",
      "success: idemopotent found in split-surquaternions\n",
      "done.\n"
     ]
    }
   ],
   "source": [
    "from involution.algebra import SplitQuaternion\n",
    "from surreal import creation\n",
    "s = creation()\n",
    "print('\\nTest Split-Surquaternion idempotent - a number whose square is zero')\n",
    "\n",
    "q = SplitQuaternion([s[1/2],s[0],s[1/2],s[0]])\n",
    "calc = q*q\n",
    "expect = q\n",
    "print('\\nraw form:\\n')\n",
    "print(\"\\n%8s = %r\" % ('q',q))\n",
    "print(\"\\n%8s = %r\" % ('q×q',calc))\n",
    "print(\"\"\"\n",
    "\n",
    "=== Split-Surquaternion Idempotent test\n",
    "\n",
    "Given the idempotent:\n",
    "\n",
    "          q = ({0})\n",
    "\n",
    "...verify it squares to itself:\n",
    "\n",
    "        q×q = ({1})\n",
    "     expect = ({2})\n",
    "\n",
    "\"\"\".format(\n",
    "    ','.join([str(i.label) for i in q.state]),\n",
    "    ','.join([str(i.label) for i in calc.state]),\n",
    "    ','.join([str(i.label) for i in expect.state])\n",
    "))\n",
    "assert str(calc) == str(expect), 'not equal'\n",
    "print('\\nsuccess: idemopotent found in split-surquaternions\\ndone.')"
   ]
  },
  {
   "cell_type": "markdown",
   "metadata": {
    "collapsed": true
   },
   "source": [
    "### Conclusion\n",
    "The real quaterion idempotent is well known. It was expected to be found in the splitquaternion hypersurcomplex numbers as well.\n",
    "\n",
    "This notebook demonstrated that the hypersurquaternion's contain an idempotent where it was expect to be found."
   ]
  }
 ],
 "metadata": {
  "kernelspec": {
   "display_name": "Python 3",
   "language": "python",
   "name": "python3"
  },
  "language_info": {
   "codemirror_mode": {
    "name": "ipython",
    "version": 3
   },
   "file_extension": ".py",
   "mimetype": "text/x-python",
   "name": "python",
   "nbconvert_exporter": "python",
   "pygments_lexer": "ipython3",
   "version": "3.5.3"
  }
 },
 "nbformat": 4,
 "nbformat_minor": 2
}
