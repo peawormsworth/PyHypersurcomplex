{
 "cells": [
  {
   "cell_type": "markdown",
   "metadata": {},
   "source": [
    "# Hypersurcomplex Arithmetic\n",
    "Hypersurcomplex numbers include surcomplex numbers and algebras of higher dimension.\n",
    "\n",
    "By connecting the PySurreal package with Involution, the hypercomplex calculator, Hypersurcomplex numbers can be created and manipulated. These calculations are limited and consist of coefficients with an early birthday.\n",
    "\n",
    "Real results were obtain with four, eight and sixteen dimensions. \n",
    "\n",
    "See conclusion for additional notes on results and limitations."
   ]
  },
  {
   "cell_type": "code",
   "execution_count": 1,
   "metadata": {
    "collapsed": true
   },
   "outputs": [],
   "source": [
    "from surreal import creation\n",
    "from involution.algebra import *"
   ]
  },
  {
   "cell_type": "code",
   "execution_count": 2,
   "metadata": {
    "collapsed": false
   },
   "outputs": [
    {
     "name": "stdout",
     "output_type": "stream",
     "text": [
      "\n",
      "Calculate Quaternion: (0.5,-0.5,-1,1) × (-1,2,3,1)\n",
      "\n",
      "Surquaternion Calculation: (5/2,-5/2,5,0)\n",
      "      Numeric Calculation:  2.5-2.5i+5j\n",
      "\n",
      "...observe these numbers are the same\n",
      "\n"
     ]
    }
   ],
   "source": [
    "day=7\n",
    "s = creation(days=day)\n",
    "\n",
    "a,b,c,d = 1/2, -1/2, -1, 1\n",
    "e,f,g,h =  -1,    2,  3, 1\n",
    "\n",
    "print(\"\\nCalculate Quaternion: ({}) × ({})\\n\".format(','.join([str(i) for i in [a,b,c,d]]),','.join([str(i) for i in [e,f,g,h]])))\n",
    "\n",
    "s1 = Quaternion([s[a],s[b],s[c],s[d]])\n",
    "s2 = Quaternion([s[e],s[f],s[g],s[h]])\n",
    "s3 = s1*s2\n",
    "\n",
    "q1 = Quaternion([a,b,c,d])\n",
    "q2 = Quaternion([e,f,g,h])\n",
    "q3 = q1*q2\n",
    "\n",
    "print('Surquaternion Calculation: ({})'.format(','.join([str(i.label) for i in s3.state])))\n",
    "print('      Numeric Calculation:  {}\\n'.format(q3))\n",
    "print('...observe these numbers are the same\\n')"
   ]
  },
  {
   "cell_type": "code",
   "execution_count": 3,
   "metadata": {
    "collapsed": false
   },
   "outputs": [
    {
     "name": "stdout",
     "output_type": "stream",
     "text": [
      "\n",
      "1. calculate Complex: (0,0) × (2,-3/4)\n",
      "\n",
      "\n",
      "    Complex Calculation: (0,0)\n",
      "\n",
      "    Numeric Calculation: (0.0,0.0)\n",
      "\n",
      "\n",
      "2. calculate Complex: (0,0) × (-1,-1)\n",
      "\n",
      "\n",
      "    Complex Calculation: (0,0)\n",
      "\n",
      "    Numeric Calculation: (0.0,0.0)\n",
      "\n",
      "done.\n"
     ]
    }
   ],
   "source": [
    "day=10\n",
    "s = creation(days=day)\n",
    "from random import choice, randint\n",
    "\n",
    "algebra = Complex\n",
    "algebra_name = str(algebra.__name__)\n",
    "dim = 2**len(algebra.dp)\n",
    "\n",
    "for l in range(2):\n",
    "    choices = list(creation(days=4).keys())\n",
    "    a_coefficients = [ choice(choices) for i in range(dim) ]\n",
    "    b_coefficients = [ choice(choices) for i in range(dim) ]\n",
    "    \n",
    "    a_coefficients = [0,0]\n",
    "    \n",
    "    print(\"\\n{}. calculate {}: ({}) × ({})\\n\\n\".format(\n",
    "        l+1, algebra_name,\n",
    "        ','.join([str(i) for i in a_coefficients]) ,\n",
    "        ','.join([str(i) for i in b_coefficients]) )\n",
    "    )\n",
    "\n",
    "    s1 = algebra([s[i] for i in a_coefficients])\n",
    "    s2 = algebra([s[i] for i in b_coefficients])\n",
    "    try:\n",
    "        s3 = s1*s2\n",
    "\n",
    "        q1 = algebra(a_coefficients)\n",
    "        q2 = algebra(b_coefficients)\n",
    "        q3 = q1*q2\n",
    "\n",
    "        print('    {} Calculation: ({})\\n'.format(\n",
    "            algebra_name,\n",
    "            ','.join([str(i.label) for i in s3.state]))\n",
    "        )\n",
    "        print('    Numeric Calculation: ({})\\n'.format(','.join([str(float(i)) for i in q3.state])))\n",
    "    except KeyError:\n",
    "        print('''\n",
    "Calculation aborted: created a surreal representation without an equivelence in the universe.\n",
    " aborted this calculation due to the considerable time it takes to operate on non-reducible surreals.\n",
    "''')\n",
    "print('done.')"
   ]
  },
  {
   "cell_type": "markdown",
   "metadata": {},
   "source": [
    "### Surquaternion vs Quaternion\n",
    "The calculations above look the same, but their internal structure is completely different:"
   ]
  },
  {
   "cell_type": "code",
   "execution_count": 4,
   "metadata": {
    "collapsed": false
   },
   "outputs": [
    {
     "name": "stdout",
     "output_type": "stream",
     "text": [
      "\n",
      "Compare the content of a Surquaternion with a standard Quaternion\n",
      "\n",
      "Standard quaternion content:\n",
      "  'Complex'(['0,0'], dp='3', ii='-')\n",
      "\n",
      "Surquaternion coefficients:\n",
      "  Quaternion(Surreal([],[]),Surreal([],[]))\n",
      "\n",
      "Surquaternion string representation:\n",
      "   'Complex'(['[|],[|]'], dp='3', ii='-')\n",
      "\n"
     ]
    }
   ],
   "source": [
    "print('\\nCompare the content of a Surquaternion with a standard Quaternion\\n')\n",
    "print('Standard quaternion content:\\n  {}\\n'.format(repr(q3)))\n",
    "print('Surquaternion coefficients:\\n  Quaternion({})\\n'.format(','.join([repr(i) for i in s3.state])))\n",
    "print('Surquaternion string representation:\\n   {}\\n'.format(repr(s3)))"
   ]
  },
  {
   "cell_type": "markdown",
   "metadata": {},
   "source": [
    "### Suroctonion products\n",
    "Suroctonion multiplication is recursive and slow. Below is the product of two simple surquaternions using only 1,0 and -1 coefficients."
   ]
  },
  {
   "cell_type": "code",
   "execution_count": 5,
   "metadata": {
    "collapsed": false
   },
   "outputs": [
    {
     "name": "stdout",
     "output_type": "stream",
     "text": [
      "\n",
      "Calculate Octonion: (-1,0,1,1,-1,1,1,1) × (1,0,1,-1,-1,1,0,-1)\n",
      "\n",
      "\n",
      "Surquaternion Calculation: (-2.0,-1.0,-1.0,5.0,1.0,3.0,-1.0,0.0)\n",
      "\n",
      "      Numeric Calculation: (-2.0,-1.0,-1.0,5.0,1.0,3.0,-1.0,0.0)\n",
      "\n",
      "...observe these numbers are the same\n",
      "\n"
     ]
    }
   ],
   "source": [
    "day=7\n",
    "s = creation(days=day)\n",
    "\n",
    "a_coefficients = [ -1, 0, 1, 1,-1, 1, 1, 1 ]\n",
    "b_coefficients = [  1, 0, 1,-1,-1, 1, 0,-1 ]\n",
    "\n",
    "print(\"\\nCalculate Octonion: ({}) × ({})\\n\\n\".format(\n",
    "    ','.join([str(i) for i in a_coefficients]) ,\n",
    "    ','.join([str(i) for i in b_coefficients]) )\n",
    ")\n",
    "\n",
    "s1 = Octonion([s[i] for i in a_coefficients])\n",
    "s2 = Octonion([s[i] for i in b_coefficients])\n",
    "s3 = s1*s2\n",
    "\n",
    "q1 = Octonion(a_coefficients)\n",
    "q2 = Octonion(b_coefficients)\n",
    "q3 = q1*q2\n",
    "\n",
    "print('Surquaternion Calculation: ({})\\n'.format(\n",
    "    ','.join([str(float(i.label)) for i in s3.state]))\n",
    ")\n",
    "print('      Numeric Calculation: ({})\\n'.format(','.join([str(float(i)) for i in q3.state])))\n",
    "print('...observe these numbers are the same\\n')"
   ]
  },
  {
   "cell_type": "markdown",
   "metadata": {},
   "source": [
    "### Sursedenion product\n",
    "A simple sursedenion product is calculated in the same manner."
   ]
  },
  {
   "cell_type": "code",
   "execution_count": 6,
   "metadata": {
    "collapsed": false
   },
   "outputs": [
    {
     "name": "stdout",
     "output_type": "stream",
     "text": [
      "\n",
      "Calculate Sedenion: (1,0,0,0,0,0,1,-1,0,-0.5,-1,1,0,0,0,-1) × (0,-1,0,0.5,0,1,0,1,0,-1,0,1,0,1,0,1)\n",
      "\n",
      "\n",
      "Sursedenion Calculation: (0.5,-1.0,0.5,2.5,1.0,-0.5,1.5,1.0,1.0,0.5,-1.25,1.0,2.0,1.0,3.5,3.0)\n",
      "\n",
      "    Numeric Calculation: (0.5,-1.0,0.5,2.5,1.0,-0.5,1.5,1.0,1.0,0.5,-1.25,1.0,2.0,1.0,3.5,3.0)\n",
      "\n",
      "...observe these numbers are the same\n",
      "\n"
     ]
    }
   ],
   "source": [
    "day=7\n",
    "s = creation(days=day)\n",
    "\n",
    "a_coefficients = [ 1, 0, 0,   0, 0, 0, 1,-1, 0, -1/2,-1, 1, 0, 0, 0,-1 ]\n",
    "b_coefficients = [ 0,-1, 0, 1/2, 0, 1, 0, 1, 0,   -1, 0, 1, 0, 1, 0, 1 ]\n",
    "\n",
    "print(\"\\nCalculate Sedenion: ({}) × ({})\\n\\n\".format(\n",
    "    ','.join([str(i) for i in a_coefficients]) ,\n",
    "    ','.join([str(i) for i in b_coefficients]) )\n",
    ")\n",
    "\n",
    "s1 = Sedenion([s[i] for i in a_coefficients])\n",
    "s2 = Sedenion([s[i] for i in b_coefficients])\n",
    "s3 = s1*s2\n",
    "\n",
    "q1 = Sedenion(a_coefficients)\n",
    "q2 = Sedenion(b_coefficients)\n",
    "q3 = q1*q2\n",
    "\n",
    "print('Sursedenion Calculation: ({})\\n'.format(\n",
    "    ','.join([str(float(i.label)) for i in s3.state]))\n",
    ")\n",
    "print('    Numeric Calculation: ({})\\n'.format(','.join([str(i) for i in q3.state])))\n",
    "print('...observe these numbers are the same\\n')"
   ]
  },
  {
   "cell_type": "code",
   "execution_count": 7,
   "metadata": {
    "collapsed": false
   },
   "outputs": [
    {
     "name": "stdout",
     "output_type": "stream",
     "text": [
      "\n",
      "1. calculate Sedenion: (1,0,0,-1,1,-1,0,0,-1,1,1,0,0,0,0,-1) × (1,0,0,1,-1,0,0,-1,1,1,0,0,-1,-1,0,1)\n",
      "\n",
      "\n",
      "Sursedenion Calculation: (4.0,-3.0,1.0,1.0,-1.0,2.0,-2.0,0.0,1.0,3.0,4.0,0.0,0.0,-1.0,3.0,-2.0)\n",
      "\n",
      "    Numeric Calculation: (4.0,-3.0,1.0,1.0,-1.0,2.0,-2.0,0.0,1.0,3.0,4.0,0.0,0.0,-1.0,3.0,-2.0)\n",
      "\n",
      "...observe these numbers are the same\n",
      "\n",
      "\n",
      "2. calculate Sedenion: (0,0,1,1,1,1,-1,-1,1,-1,1,0,0,1,0,1) × (1,-1,-1,0,0,-1,-1,0,0,-1,1,0,0,1,-1,0)\n",
      "\n",
      "\n",
      "Sursedenion Calculation: (-2.0,1.0,0.0,3.0,1.0,2.0,-2.0,1.0,-3.0,0.0,2.0,-4.0,2.0,4.0,3.0,1.0)\n",
      "\n",
      "    Numeric Calculation: (-2.0,1.0,0.0,3.0,1.0,2.0,-2.0,1.0,-3.0,0.0,2.0,-4.0,2.0,4.0,3.0,1.0)\n",
      "\n",
      "...observe these numbers are the same\n",
      "\n",
      "\n",
      "3. calculate Sedenion: (-1,0,-1,0,0,1,-1,1,0,1,1,-1,0,-1,0,1) × (0,0,1,-1,0,-1,0,-1,0,1,-1,1,0,0,0,-1)\n",
      "\n",
      "\n",
      "Sursedenion Calculation: (5.0,0.0,0.0,4.0,-1.0,0.0,2.0,2.0,2.0,1.0,-1.0,-3.0,-2.0,-1.0,1.0,1.0)\n",
      "\n",
      "    Numeric Calculation: (5.0,0.0,0.0,4.0,-1.0,0.0,2.0,2.0,2.0,1.0,-1.0,-3.0,-2.0,-1.0,1.0,1.0)\n",
      "\n",
      "...observe these numbers are the same\n",
      "\n",
      "\n",
      "4. calculate Sedenion: (-1,1,0,-1,0,0,1,0,-1,1,1,-1,1,1,-1,0) × (0,1,1,1,0,0,1,-1,-1,0,-1,-1,1,-1,-1,0)\n",
      "\n",
      "\n",
      "Sursedenion Calculation: (-3.0,6.0,-2.0,-1.0,-3.0,-1.0,-2.0,0.0,1.0,0.0,4.0,7.0,1.0,-2.0,3.0,3.0)\n",
      "\n",
      "    Numeric Calculation: (-3.0,6.0,-2.0,-1.0,-3.0,-1.0,-2.0,0.0,1.0,0.0,4.0,7.0,1.0,-2.0,3.0,3.0)\n",
      "\n",
      "...observe these numbers are the same\n",
      "\n",
      "\n",
      "5. calculate Sedenion: (0,1,-1,-1,1,0,1,0,1,1,0,1,-1,-1,0,0) × (0,0,0,0,0,0,-1,1,-1,1,0,1,1,-1,1,-1)\n",
      "\n",
      "\n",
      "Sursedenion Calculation: (0.0,-1.0,-1.0,1.0,-1.0,-3.0,3.0,-1.0,-2.0,0.0,3.0,4.0,-1.0,4.0,2.0,-1.0)\n",
      "\n",
      "    Numeric Calculation: (0.0,-1.0,-1.0,1.0,-1.0,-3.0,3.0,-1.0,-2.0,0.0,3.0,4.0,-1.0,4.0,2.0,-1.0)\n",
      "\n",
      "...observe these numbers are the same\n",
      "\n"
     ]
    }
   ],
   "source": [
    "from random import choice\n",
    "from surreal import creation\n",
    "day=10\n",
    "s = creation(days=day)\n",
    "\n",
    "for l in range(5):\n",
    "    choices = list(creation(days=2).keys())\n",
    "\n",
    "    a_coefficients = [ choice(choices) for i in range(16) ]\n",
    "    b_coefficients = [ choice(choices) for i in range(16) ]\n",
    "\n",
    "    print(\"\\n{}. calculate Sedenion: ({}) × ({})\\n\\n\".format(l+1,\n",
    "        ','.join([str(i) for i in a_coefficients]) ,\n",
    "        ','.join([str(i) for i in b_coefficients]) )\n",
    "    )\n",
    "\n",
    "    s1 = Sedenion([s[i] for i in a_coefficients])\n",
    "    s2 = Sedenion([s[i] for i in b_coefficients])\n",
    "    s3 = s1*s2\n",
    "\n",
    "    q1 = Sedenion(a_coefficients)\n",
    "    q2 = Sedenion(b_coefficients)\n",
    "    q3 = q1*q2\n",
    "\n",
    "    print('Sursedenion Calculation: ({})\\n'.format(\n",
    "        ','.join([str(float(i.label)) for i in s3.state]))\n",
    "    )\n",
    "    print('    Numeric Calculation: ({})\\n'.format(','.join([str(float(i)) for i in q3.state])))\n",
    "    print('...observe these numbers are the same\\n')"
   ]
  },
  {
   "cell_type": "code",
   "execution_count": 8,
   "metadata": {
    "collapsed": false
   },
   "outputs": [
    {
     "name": "stdout",
     "output_type": "stream",
     "text": [
      "\n",
      "1. calculate Sedenion: (-1,1,-1,1,0,0,0.5,0.5,0.5,-1,0,0,1,0,-1,1) × (-1,-1,0,0.5,2,2,0,-1,1,0,-1,1,0,1,-1,0)\n",
      "\n",
      "\n",
      "Sursedenion Calculation: (0.5,1.0,-2.0,-2.0,-6.75,-0.75,-5.5,1.0,-1.0,2.0,1.0,5.25,-2.5,0.5,1.5,-0.5)\n",
      "\n",
      "    Numeric Calculation: (0.5,1.0,-2.0,-2.0,-6.75,-0.75,-5.5,1.0,-1.0,2.0,1.0,5.25,-2.5,0.5,1.5,-0.5)\n",
      "\n",
      "\n",
      "2. calculate Sedenion: (0.5,1,-1,0,1,0,2,0.75,0,-1,-1,1.5,-1,1,-1,-1) × (0,-1,0,0,1,0.5,1.5,1,0.5,2,0,-1,-1,0,0.5,-0.5)\n",
      "\n",
      "\n",
      "\n",
      "Calculation aborted: created a surreal representation without an equivelence in the universe.\n",
      " aborted this calculation due to the considerable time it takes to operate on non-reducible surreals.\n",
      "\n",
      "\n",
      "3. calculate Sedenion: (-1,1.5,2,-1,1,0,1,0,-1,0,-1,1,1,0,2,1) × (0.5,0,0,-1,0,1.5,0,1,-1.5,0,0.5,0,0,-0.5,-0.5,1)\n",
      "\n",
      "\n",
      "Sursedenion Calculation: (-2.5,2.75,0.5,4.5,1.25,-3.0,7.0,3.0,0.5,-1.75,-2.0,-4.25,-2.25,0.5,1.0,1.25)\n",
      "\n",
      "    Numeric Calculation: (-2.5,2.75,0.5,4.5,1.25,-3.0,7.0,3.0,0.5,-1.75,-2.0,-4.25,-2.25,0.5,1.0,1.25)\n",
      "\n",
      "done.\n"
     ]
    }
   ],
   "source": [
    "day=10\n",
    "s = creation(days=day)\n",
    "from random import choice, randint\n",
    "\n",
    "for l in range(3):\n",
    "    #choices = list(creation(days=2).keys())\n",
    "    choices = [-1,0,1] * 12 + [2,1/2,-1/2,3/2,3/4,-3/2,3/2,1/4]\n",
    "    \n",
    "    a_coefficients = [ choice(choices) for i in range(16) ]\n",
    "    b_coefficients = [ choice(choices) for i in range(16) ]\n",
    "    for _ in range(2):\n",
    "        a_coefficients[randint(0,len(a_coefficients)-1)] = choice([1/2,2])\n",
    "        b_coefficients[randint(0,len(b_coefficients)-1)] = choice([1/2,2])\n",
    "\n",
    "    print(\"\\n{}. calculate Sedenion: ({}) × ({})\\n\\n\".format(l+1,\n",
    "        ','.join([str(i) for i in a_coefficients]) ,\n",
    "        ','.join([str(i) for i in b_coefficients]) )\n",
    "    )\n",
    "\n",
    "    s1 = Sedenion([s[i] for i in a_coefficients])\n",
    "    s2 = Sedenion([s[i] for i in b_coefficients])\n",
    "    try:\n",
    "        s3 = s1*s2\n",
    "\n",
    "        q1 = Sedenion(a_coefficients)\n",
    "        q2 = Sedenion(b_coefficients)\n",
    "        q3 = q1*q2\n",
    "\n",
    "        print('Sursedenion Calculation: ({})\\n'.format(\n",
    "            ','.join([str(float(i.label)) for i in s3.state]))\n",
    "        )\n",
    "        print('    Numeric Calculation: ({})\\n'.format(','.join([str(float(i)) for i in q3.state])))\n",
    "    except KeyError:\n",
    "        print('''\n",
    "Calculation aborted: created a surreal representation without an equivelence in the universe.\n",
    " aborted this calculation due to the considerable time it takes to operate on non-reducible surreals.\n",
    "''')\n",
    "print('done.')"
   ]
  }
 ],
 "metadata": {
  "kernelspec": {
   "display_name": "Python 3",
   "language": "python",
   "name": "python3"
  },
  "language_info": {
   "codemirror_mode": {
    "name": "ipython",
    "version": 3
   },
   "file_extension": ".py",
   "mimetype": "text/x-python",
   "name": "python",
   "nbconvert_exporter": "python",
   "pygments_lexer": "ipython3",
   "version": "3.5.3"
  }
 },
 "nbformat": 4,
 "nbformat_minor": 2
}
